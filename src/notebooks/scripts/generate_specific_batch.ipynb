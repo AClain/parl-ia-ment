{
 "cells": [
  {
   "cell_type": "code",
   "execution_count": 1,
   "metadata": {},
   "outputs": [],
   "source": [
    "import os\n",
    "\n",
    "os.sys.path.append(os.path.join(os.getcwd(), \"../..\"))\n",
    "from models.Batch import Batch\n",
    "from databases.connector import Connector\n",
    "from models.ExportFormat import ExportFormat\n",
    "from prompting.get_themes_list import (\n",
    "    selected_level_1_themes_first_version,\n",
    "    get_accepted_themes_list_from_themes_list,\n",
    ")\n",
    "from metrics.batch import compute_batch_theme_counts\n",
    "from utils.database import add_question_ids_to_batch"
   ]
  },
  {
   "cell_type": "code",
   "execution_count": 2,
   "metadata": {},
   "outputs": [],
   "source": [
    "connector = Connector(ExportFormat.JSON)"
   ]
  },
  {
   "cell_type": "code",
   "execution_count": 3,
   "metadata": {},
   "outputs": [],
   "source": [
    "SIZE = 1500\n",
    "LEGISLATURE = 8\n",
    "NUMBER_OF_BATCH_TO_CREATE = 1\n",
    "THEMES_LIST, THEME_HIERARCHY_LEVEL = selected_level_1_themes_first_version()"
   ]
  },
  {
   "cell_type": "code",
   "execution_count": null,
   "metadata": {},
   "outputs": [],
   "source": [
    "themes = connector.client.get_themes(\n",
    "    {\"level\": THEME_HIERARCHY_LEVEL, \"name\": {\"$in\": THEMES_LIST}}\n",
    ")\n",
    "\n",
    "themes_list = list(themes)\n",
    "\n",
    "accepted_themes_for_questions = get_accepted_themes_list_from_themes_list(themes_list)\n",
    "\n",
    "questions = connector.client.get_random_questions(\n",
    "    number_of_questions=SIZE,\n",
    "    legislature=LEGISLATURE,\n",
    "    accepted_themes=accepted_themes_for_questions,\n",
    ")\n",
    "\n",
    "question_ids = [x[\"id\"] for x in questions]\n",
    "\n",
    "comment = \"selected level 1 themes first version 8th legislature only\"\n",
    "\n",
    "for i in range(0, NUMBER_OF_BATCH_TO_CREATE):\n",
    "    batch = Batch(question_ids=question_ids, size=len(question_ids), comment=comment)\n",
    "\n",
    "    inserted_batch = connector.client.add_batch(batch)\n",
    "\n",
    "    print(f\"Inserted Batch: {inserted_batch}\")"
   ]
  },
  {
   "cell_type": "code",
   "execution_count": null,
   "metadata": {},
   "outputs": [],
   "source": [
    "\"\"\"\n",
    "USE THIS CELL TO EDIT THE BATCH\n",
    "\"\"\"\n",
    "# themes = connector.client.get_themes(\n",
    "#     {\"level\": 1, \"name\": {\"$in\": [\"numérique\"]}}\n",
    "# )\n",
    "\n",
    "# themes_list = list(themes)\n",
    "\n",
    "# accepted_themes_for_questions = get_accepted_themes_list_from_themes_list(themes_list)\n",
    "\n",
    "# questions = connector.client.get_random_questions(\n",
    "#     number_of_questions=250,\n",
    "#     accepted_themes=accepted_themes_for_questions,\n",
    "# )\n",
    "\n",
    "# question_ids = [x[\"id\"] for x in questions]\n",
    "\n",
    "# add_question_ids_to_batch(question_ids, inserted_batch.inserted_id)"
   ]
  },
  {
   "cell_type": "code",
   "execution_count": null,
   "metadata": {},
   "outputs": [],
   "source": [
    "compute_batch_theme_counts(inserted_batch.inserted_id, THEME_HIERARCHY_LEVEL)"
   ]
  }
 ],
 "metadata": {
  "kernelspec": {
   "display_name": ".venv",
   "language": "python",
   "name": "python3"
  },
  "language_info": {
   "codemirror_mode": {
    "name": "ipython",
    "version": 3
   },
   "file_extension": ".py",
   "mimetype": "text/x-python",
   "name": "python",
   "nbconvert_exporter": "python",
   "pygments_lexer": "ipython3",
   "version": "3.12.3"
  }
 },
 "nbformat": 4,
 "nbformat_minor": 2
}
