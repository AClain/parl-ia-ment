{
  "cells": [
    {
      "cell_type": "code",
      "execution_count": 1,
      "metadata": {},
      "outputs": [],
      "source": [
        "import os\n",
        "\n",
        "os.sys.path.append(os.path.join(os.getcwd(), \"../../..\"))"
      ]
    },
    {
      "cell_type": "code",
      "execution_count": 2,
      "metadata": {},
      "outputs": [],
      "source": [
        "import time\n",
        "import traceback\n",
        "from openai import OpenAI\n",
        "from guardrails import Guard\n",
        "from dotenv import load_dotenv\n",
        "from utils.logger import get_logger\n",
        "from utils.helpers import hash_list\n",
        "from databases.connector import Connector\n",
        "from models.ExportFormat import ExportFormat\n",
        "from models.Prompt import Prompt, PromptResult, PromptRun\n",
        "from guardrails.hub import ValidChoices\n",
        "import random"
      ]
    },
    {
      "cell_type": "code",
      "execution_count": 3,
      "metadata": {},
      "outputs": [],
      "source": [
        "logger = get_logger()\n",
        "load_dotenv()\n",
        "client = OpenAI()\n",
        "connector = Connector(ExportFormat.JSON)"
      ]
    },
    {
      "cell_type": "code",
      "execution_count": 6,
      "metadata": {},
      "outputs": [],
      "source": [
        "model = \"random\"\n",
        "themes_level = 3\n",
        "question_sample_size = 1500\n",
        "batch_id = \"dd5ef5489a898f6df898005bdae76fe395ea02f715a625da41b55f5133efb2fc\"\n",
        "\n",
        "themes = connector.client.get_themes_by_level(themes_level)\n",
        "themes_list = list(themes)\n",
        "themes_list = [theme[\"name\"] for theme in themes_list]\n",
        "\n",
        "batch = connector.client.get_batch({\"identifier\": batch_id})\n",
        "question_list = connector.client.aggregate_questions(\n",
        "\t[{\"$match\": {\"id\": {\"$in\": batch[\"question_ids\"]}}}]\n",
        ")\n",
        "\n",
        "guard = Guard().use(ValidChoices, choices=themes_list, on_fail=\"exception\")\n",
        "\n",
        "prompts = []\n",
        "\n",
        "prompt = Prompt(\n",
        "\tunique_identifier=hash_list(prompts),\n",
        "\tprompts=prompts,\n",
        ")\n",
        "prompt = connector.client.upsert_prompt(prompt)\n",
        "\n",
        "prompt_run = PromptRun(\n",
        "\tprompt_id=prompt[\"unique_identifier\"],\n",
        "\tbatch_id=batch_id,\n",
        "\tparameters={\"temperature\": 0, \"model\": model, \"type\": \"zero-shot\"},\n",
        "\ttimestamp=int(time.time()),\n",
        "\tname=\"Random classificiation\"\n",
        ")\n",
        "inserted_prompt_run = connector.client.add_prompt_run(prompt_run)\n",
        "\n",
        "for question in question_list:\n",
        "\tquestion_text = question[\"question_text\"]\n",
        "\n",
        "\ttry:\n",
        "\t\trandom_theme = random.choice(themes_list)\n",
        "\n",
        "\t\tquestion_theme = connector.client.get_theme(\n",
        "\t\t\t{\"name\": question[\"theme\"], \"level\": 0}\n",
        "\t\t)\n",
        "\t\ttop_level_theme = connector.client.get_parent_theme(\n",
        "\t\t\tquestion_theme[\"parent_theme_identifier\"]\n",
        "\t\t)[\"name\"]\n",
        "\n",
        "\t\tguard.validate(random_theme.lower())\n",
        "\n",
        "\t\tlegislature = question[\"id\"][: question[\"id\"].index(\"-\")]\n",
        "\n",
        "\t\tprompt_result = PromptResult(\n",
        "\t\t\trun_id=str(inserted_prompt_run.inserted_id),\n",
        "\t\t\tquestion_id=question[\"id\"],\n",
        "\t\t\tbatch_id=batch_id,\n",
        "\t\t\tprompt_id=prompt[\"unique_identifier\"],\n",
        "\t\t\tresponse=random_theme,\n",
        "\t\t\tresponse_tokens=0,\n",
        "\t\t\tprompt_tokens=0,\n",
        "\t\t\tlegislature=legislature,\n",
        "\t\t\tconfidence=0,\n",
        "\t\t)\n",
        "\n",
        "\t\tconnector.client.add_prompt_result(prompt_result)\n",
        "\texcept Exception as _:\n",
        "\t\tlogger.error(traceback.format_exc())\n",
        "\t\tpass"
      ]
    }
  ],
  "metadata": {
    "kernelspec": {
      "display_name": ".venv",
      "language": "python",
      "name": "python3"
    },
    "language_info": {
      "codemirror_mode": {
        "name": "ipython",
        "version": 3
      },
      "file_extension": ".py",
      "mimetype": "text/x-python",
      "name": "python",
      "nbconvert_exporter": "python",
      "pygments_lexer": "ipython3",
      "version": "3.12.3"
    }
  },
  "nbformat": 4,
  "nbformat_minor": 2
}
