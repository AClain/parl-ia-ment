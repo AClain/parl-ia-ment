{
  "cells": [
    {
      "cell_type": "code",
      "execution_count": 1,
      "metadata": {},
      "outputs": [],
      "source": [
        "import os\n",
        "os.sys.path.append(os.path.join(os.getcwd(), \"../../../..\"))\n",
        "from models.Prompt import PromptRunParameters\n",
        "from prompting.run_prompt import WrapperEnum, run_prompts\n",
        "from prompting.get_prompts import few_shot_vanilla\n",
        "from prompting.get_themes_list import selected_level_1_themes_first_version"
      ]
    },
    {
      "cell_type": "code",
      "execution_count": 2,
      "metadata": {},
      "outputs": [
        {
          "name": "stdout",
          "output_type": "stream",
          "text": [
            "system: Ton rôle est d'attribuer un thème à une question posée par un député à l'Assemblée nationale française. La liste des thèmes est la suivante :\n",
            "- retraites\n",
            "- ministères et secrétariats d'état\n",
            "- handicapés\n",
            "- enseignement\n",
            "- politique extérieure\n",
            "- agriculture\n",
            "- logement\n",
            "- anciens combattants et victimes de guerre\n",
            "- énergie et carburants\n",
            "- impôts et taxes\n",
            "- sécurité sociale\n",
            "- justice\n",
            "- entreprises\n",
            "- outre-mer\n",
            "- déchets, pollution et nuisances\n",
            "- communes\n",
            "- commerce et artisanat\n",
            "- sports\n",
            "- consommation\n",
            "- famille\n",
            "- étrangers\n",
            "Ta réponse doit contenir une seule chose: le thème correspondant, par exemple `retraites` ou `ministères et secrétariats d'état`. Le thème assigné doit être un des thèmes de la liste fournie. Seuls les thèmes de la liste précédente sont valides.\n",
            "\n",
            "user: \n",
            "M. Éric Raoult attire l'attention de M. le ministre de l'intérieur sur le recensement des limogeages de préfets de police sous la Ve République. En effet, la récente décision concernant le préfet Michel Gaudin apparaît, non comme une sanction d'une faute, mais beaucoup plus comme une marque d'ostracisme et de sectarisme à l'égard d'un haut fonctionnaire remarquable et exemplaire, qui faisait l'unanimité pour son grand professionnalisme, en matière de police et de sécurité sur la région parisienne notamment, pour la grande agglomération de Paris dont il fut le fondateur de la police d'agglomération. Cette décision va marquer le nouveau Gouvernement d'une marque de sectarisme, son ministre de l'intérieur, en premier lieu. Il s'agit donc d'une première faute politique, par une décision qui ne se justifiait pas, et qui est tout à fait contraire au concept de l'État impartial proclamé pour le nouveau Président de la République, François Hollande. Dès lors, il souhaiterait connaître le nombre de limogeages de préfets de police sous la Ve République et leur raison.\n",
            "\n",
            "assistant: \n",
            "ministères et secrétariats d'état\n",
            "\n",
            "user: \n",
            "M. Dominique Bussereau attire l'attention de M. le ministre de l'éducation nationale sur la situation des assistants d'éducation en fin de contrat. L'article L. 916-1 du code de l'éducation prévoit la possibilité de recruter des assistants d'éducation pour des fonctions d'assistance à l'équipe éducative, notamment pour l'encadrement et la surveillance des élèves et l'accompagnement des élèves handicapés en établissement scolaire et en école. Il prévoit notamment que « les assistants d'éducation sont recrutés par des contrats d'une durée maximale de trois ans, renouvelables dans la limite d'une période d'engagement totale de six ans ». La loi n° 2012-347 du 12 mars 2012 relative à l'accès à l'emploi titulaire et à l'amélioration des conditions d'emploi des agents contractuels dans la fonction publique, à la lutte contre les discriminations et portant diverses dispositions relatives à la fonction publique, prévoit qu'un contrat à durée indéterminée sera obligatoirement proposé aux contractuels justifiant d'une ancienneté de service de six ans répondant à des besoins permanents. Aussi, il lui demande si les assistants d'éducation, au terme des six ans, seront éligibles à un contrat pérenne dans le cadre du plan annoncé par le Président de la République du recrutement de 60 000 personnels d'éducation.\n",
            "\n",
            "assistant: \n",
            "enseignement\n",
            "\n",
            "user: \n",
            "M. Éric Raoult attire l'attention de M. le ministre de l'intérieur sur l'installation de manière illégale de familles roms, aux abords de la zone industrielle implantée à la limite des villes de La Courneuve et du Bourget. En effet, la situation sur ce secteur ne cesse de s'aggraver depuis le début de l'installation de ce campement, tant dans des conditions d'hygiène que de sécurité pour les entreprises et la population. En effet, les riverains sont régulièrement confrontés à des nuisances et à des troubles de plus en plus fréquents et de plus en plus violents. Face à cette situation qui devient de plus en plus inquiétante, ne rien faire pourrait entraîner le départ de nombreuses entreprises, dans un secteur qui connaît déjà un chômage important. Il faut aussi noter une augmentation des actes de délinquance qui ne sont pas de nature à rassurer les habitants. L'ancien ministre de l'intérieur avait une position claire en matière d'expulsion des familles roms et, dans le département de la Seine-Saint-Denis, le préfet avait montré sa détermination à faire respecter cette directive. D'ailleurs, de nombreux campements illicites ont été évacués ces dernières années, par les forces de l'ordre, pour faire respecter la loi et permettre une diminution d'actes de délinquance dans ces secteurs. Dès lors, il lui demande de bien vouloir lui indiquer les mesures que le Gouvernement compte prendre afin de mettre un terme à cette situation inquiétante, qui nécessite de la fermeté et de la célérité.\n",
            "\n",
            "assistant: \n",
            "étrangers\n",
            "\n",
            "user: \n",
            "Mme Geneviève Fioraso attire l'attention de M. le ministre des sports sur les statuts et règlements des fédérations sportives. La ligue internationale contre le racisme et l'antisémitisme (Licra) a récemment proposé d'inscrire dans les statuts et règlements qui régissent les fédérations sportives une responsabilité disciplinaire et des sanctions pour les clubs qui profitent de la précarité des sportifs pour contrevenir au droit du travail. Elle lui demande quel est son avis sur cette proposition.\n",
            "\n",
            "assistant: \n",
            "sports\n",
            "\n",
            "user: \n",
            "M. Gérard Charasse attire l'attention de Mme la ministre des affaires sociales et de la santé sur l'application qui est faite des dispositifs législatifs et réglementaires traitant du cumul entre les pensions d'invalidité et la rente accident du travail. En effet, il semble que les caisses appliquent systématiquement la règle qui consiste à cumuler les deux prestations dans la limite du salaire perçu par un travailleur valide de même catégorie socioprofessionnelle. Or le code de la sécurité sociale prévoit que l'assuré, titulaire d'une rente allouée en vertu de la législation sur les accidents du travail et les maladies professionnelles, peut prétendre au bénéfice de l'assurance invalidité lorsque son état d'invalidité subit une aggravation non susceptible d'être indemnisée au titre de cette législation et que dans ces conditions s'applique la règle de cumul précitée. Or, dans le cas où les affections ouvrant droit aux deux prestations sont sans aucun rapport et quand de plus fort la perception de l'assurance invalidité est antérieure à l'accident du travail et l'évènement l'ayant déclenché sans rapport avec la cause de l'accident du travail, aucune règle de cumul ne s'applique et le bénéficiaire est en droit de cumuler les deux prestations. Il lui demande de bien vouloir préciser aux caisses les modalités d'application de cet article et l'esprit précité dans lequel il a été adopté par la représentation nationale.\n",
            "\n",
            "assistant: \n",
            "handicapés\n",
            "\n",
            "user: {0}\n",
            "\n"
          ]
        }
      ],
      "source": [
        "\"\"\"\n",
        "! ONLY EDIT THIS CELL\n",
        "\"\"\"\n",
        "\n",
        "#? Specify the API wrapper to use for calling the LLM\n",
        "WRAPPER = WrapperEnum.OpenAI\n",
        "#? Define the model to use with the wrapper (available models can be found in the PROMPTING.md file)\n",
        "MODEL = \"gpt-4o-mini-2024-07-18\"\n",
        "#? Set the temperature parameter for the model to control randomness (0.0 = deterministic, 1.0 = random)\n",
        "TEMPERATURE = 0.0\n",
        "\n",
        "#? The identifier for the batch of questions being processed. Set to None if no Batch should be used\n",
        "BATCH_ID = \"66f9ca5824e5760146e27831\"\n",
        "#? Number of questions sampled from the database. Will create a Batch based on the themes list\n",
        "QUESTION_SAMPLE_SIZE = 1500\n",
        "\n",
        "NUMBER_OF_SHOTS = 5\n",
        "#? Defines the themes list and its associated hierarchy level (0 to 3)\n",
        "THEMES_LIST, THEMES_HIERARCHY_LEVEL = selected_level_1_themes_first_version()\n",
        "#? Defines the list of prompts to use, its associated prompt type (zero-shot, one-shot, etc.)\n",
        "PROMPTS, ASSOC, ACCEPTED_THEMES_FOR_QUESTION, PROMPT_TYPES = few_shot_vanilla(\n",
        "    themes_list=THEMES_LIST,\n",
        "    themes_hierarchy_level=THEMES_HIERARCHY_LEVEL,\n",
        "    wrapper=WRAPPER,\n",
        "    number_of_shots=NUMBER_OF_SHOTS,\n",
        ")\n",
        "\n",
        "# ? Name for the run\n",
        "NAME = f\"few-shot (k={NUMBER_OF_SHOTS})\"\n",
        "#? Add a comment to be able to identify each run\n",
        "DESCRIPTION = f\"experience #5 few shot (k={NUMBER_OF_SHOTS}) vanilla\"\n",
        "#? If the API calls starts to be slower, increase the sleep time\n",
        "SLEEP_TIME = 0\n",
        "#? Number of run to create with the same parameters\n",
        "NUMBER_OF_RUNS = 1"
      ]
    },
    {
      "cell_type": "code",
      "execution_count": 3,
      "metadata": {},
      "outputs": [],
      "source": [
        "\"\"\"\n",
        "! DO NOT EDIT THIS CELL\n",
        "\"\"\"\n",
        "PARAMETERS = PromptRunParameters(\n",
        "    temperature=TEMPERATURE,\n",
        "    model=MODEL,\n",
        "    types=PROMPT_TYPES,\n",
        "    theme_hierarchy_level=THEMES_HIERARCHY_LEVEL,\n",
        "    wrapper=WRAPPER,\n",
        ")"
      ]
    },
    {
      "cell_type": "code",
      "execution_count": 4,
      "metadata": {},
      "outputs": [
        {
          "name": "stderr",
          "output_type": "stream",
          "text": [
            "100%|██████████| 1500/1500 [43:18<00:00,  1.73s/it]\n"
          ]
        }
      ],
      "source": [
        "\"\"\"\n",
        "! DO NOT EDIT THIS CELL\n",
        "\"\"\"\n",
        "\n",
        "for i in range(1, NUMBER_OF_RUNS + 1):\n",
        "    run_prompts(\n",
        "        parameters=PARAMETERS,\n",
        "        prompts=PROMPTS,\n",
        "        themes_list=THEMES_LIST,\n",
        "        number_of_questions=QUESTION_SAMPLE_SIZE,\n",
        "        batch_id=BATCH_ID,\n",
        "        accepted_themes_for_questions=ACCEPTED_THEMES_FOR_QUESTION,\n",
        "        description=DESCRIPTION,\n",
        "\t\tname=NAME,\n",
        "        sleep_time=SLEEP_TIME,\n",
        "    )"
      ]
    }
  ],
  "metadata": {
    "kernelspec": {
      "display_name": ".venv",
      "language": "python",
      "name": "python3"
    },
    "language_info": {
      "codemirror_mode": {
        "name": "ipython",
        "version": 3
      },
      "file_extension": ".py",
      "mimetype": "text/x-python",
      "name": "python",
      "nbconvert_exporter": "python",
      "pygments_lexer": "ipython3",
      "version": "3.12.3"
    }
  },
  "nbformat": 4,
  "nbformat_minor": 2
}
